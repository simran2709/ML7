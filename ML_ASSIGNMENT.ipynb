{
  "nbformat": 4,
  "nbformat_minor": 0,
  "metadata": {
    "colab": {
      "provenance": []
    },
    "kernelspec": {
      "name": "python3",
      "display_name": "Python 3"
    },
    "language_info": {
      "name": "python"
    }
  },
  "cells": [
    {
      "cell_type": "markdown",
      "source": [
        "#ASSIPGNMENT\n",
        "\n",
        "QUES1. What is Boosting in Machine Learning? Explain how it improves weak learners.\n",
        "- Boosting is an ensemble learning technique in machine learning that combines multiple weak learners to create a strong model.\n",
        "\n",
        "A weak learner is a simple model that performs only slightly better than random guessing (e.g., a shallow decision tree). Boosting trains these weak learners sequentially, where each new learner focuses on correcting the mistakes of the previous ones.\n",
        "\n",
        "How it improves weak learners:\n",
        "1. Boosting assigns higher weights to misclassified samples so the next learner pays more attention to them.\n",
        "2. Multiple weak learners are combined, and their predictions are aggregated (e.g., weighted voting or averaging).\n",
        "3. This sequential correction reduces bias and improves accuracy.\n",
        "\n",
        "QUES2.What is the difference between AdaBoost and Gradient Boosting in terms of how models are trained?\n",
        "- Both AdaBoost and Gradient Boosting are boosting algorithms, but they differ in how they improve weak learners:\n",
        "\n",
        "1. AdaBoost:\n",
        "- Works by reweighting misclassified samples.\n",
        "- At each step, it assigns higher weights to samples that were misclassified.\n",
        "- The next weak learner focuses more on difficult samples.\n",
        "- Final prediction is based on weighted majority voting (classification) or weighted averaging (regression).\n",
        "\n",
        "2. Gradient Boosting:\n",
        "- Uses gradient descent to minimize the loss function.\n",
        "- At each step, it fits a new weak learner on the residual errors (the difference between predictions and actual values).\n",
        "- It focuses on correcting the prediction errors directly using gradients.\n",
        "\n",
        "QUES3.How does regularization help in XGBoost?\n",
        "- Regularization in XGBoost helps control model complexity and prevent overfitting.\n",
        "\n",
        "Key points:\n",
        "1. XGBoost includes L1 (Lasso) and L2 (Ridge) regularization terms in its objective function.\n",
        "2. L1 regularization makes the model sparse by driving some weights to zero, leading to simpler trees.\n",
        "3. L2 regularization penalizes large weights, making the model more stable and reducing variance.\n",
        "4. By limiting tree depth and controlling leaf weights, XGBoost creates models that generalize better on unseen data.\n",
        "\n",
        "QUES4.Why is CatBoost considered efficient for handling categorical data?\n",
        "- CatBoost is specifically designed to handle categorical features effectively.\n",
        "\n",
        "Reasons:\n",
        "1. CatBoost uses \"ordered boosting,\" which avoids target leakage when encoding categorical variables.\n",
        "2. It converts categorical values into numerical representations using combinations and statistics instead of one-hot encoding, which saves memory and computation.\n",
        "3. It automatically handles categorical variables without heavy preprocessing.\n",
        "4. The algorithm is optimized to reduce overfitting and provides fast training.\n",
        "\n",
        "QUES5.What are some real-world applications where boosting techniques are preferred over bagging methods?\n",
        "- Boosting is preferred over bagging in applications where high accuracy and handling complex patterns are required.\n",
        "\n",
        "Examples:\n",
        "1. Finance: Fraud detection and credit scoring.\n",
        "2. Healthcare: Disease prediction and medical diagnosis using genetic data.\n",
        "3. Marketing: Customer churn prediction and recommendation systems.\n",
        "4. Natural Language Processing (NLP): Sentiment analysis, spam detection.\n",
        "5. Image recognition: Object detection and classification tasks.\n",
        "\n"
      ],
      "metadata": {
        "id": "zpl00-lvWaZl"
      }
    },
    {
      "cell_type": "code",
      "execution_count": 1,
      "metadata": {
        "colab": {
          "base_uri": "https://localhost:8080/"
        },
        "id": "2OEFM5BvWVD8",
        "outputId": "31dc09b6-0b28-41ad-dbdd-9c9f817e511b"
      },
      "outputs": [
        {
          "output_type": "stream",
          "name": "stdout",
          "text": [
            "Accuracy: 0.9707602339181286\n"
          ]
        }
      ],
      "source": [
        "#QUES6\n",
        "from sklearn.datasets import load_breast_cancer\n",
        "from sklearn.model_selection import train_test_split\n",
        "from sklearn.ensemble import AdaBoostClassifier\n",
        "\n",
        "# Load dataset\n",
        "data = load_breast_cancer()\n",
        "X, y = data.data, data.target\n",
        "\n",
        "# Train-test split\n",
        "X_train, X_test, y_train, y_test = train_test_split(X, y, test_size=0.3, random_state=42)\n",
        "\n",
        "# Train AdaBoost Classifier\n",
        "model = AdaBoostClassifier(n_estimators=100, random_state=42)\n",
        "model.fit(X_train, y_train)\n",
        "\n",
        "# Accuracy\n",
        "accuracy = model.score(X_test, y_test)\n",
        "print(\"Accuracy:\", accuracy)\n"
      ]
    },
    {
      "cell_type": "code",
      "source": [
        "#QUES7\n",
        "from sklearn.datasets import fetch_california_housing\n",
        "from sklearn.model_selection import train_test_split\n",
        "from sklearn.ensemble import GradientBoostingRegressor\n",
        "from sklearn.metrics import r2_score\n",
        "\n",
        "# Load dataset\n",
        "housing = fetch_california_housing()\n",
        "X, y = housing.data, housing.target\n",
        "\n",
        "# Train-test split\n",
        "X_train, X_test, y_train, y_test = train_test_split(X, y, test_size=0.3, random_state=42)\n",
        "\n",
        "# Train Gradient Boosting Regressor\n",
        "model = GradientBoostingRegressor(n_estimators=100, learning_rate=0.1, random_state=42)\n",
        "model.fit(X_train, y_train)\n",
        "\n",
        "# Evaluate\n",
        "y_pred = model.predict(X_test)\n",
        "print(\"R-squared score:\", r2_score(y_test, y_pred))\n"
      ],
      "metadata": {
        "colab": {
          "base_uri": "https://localhost:8080/"
        },
        "id": "U9-DbejXXVZb",
        "outputId": "09260b54-7649-4056-de7d-1e08cc380908"
      },
      "execution_count": 2,
      "outputs": [
        {
          "output_type": "stream",
          "name": "stdout",
          "text": [
            "R-squared score: 0.7803012822391022\n"
          ]
        }
      ]
    },
    {
      "cell_type": "code",
      "source": [
        "#QUES8.\n",
        "from sklearn.datasets import load_breast_cancer\n",
        "from sklearn.model_selection import train_test_split, GridSearchCV\n",
        "from xgboost import XGBClassifier\n",
        "\n",
        "# Load dataset\n",
        "data = load_breast_cancer()\n",
        "X, y = data.data, data.target\n",
        "\n",
        "# Split data\n",
        "X_train, X_test, y_train, y_test = train_test_split(X, y, test_size=0.3, random_state=42)\n",
        "\n",
        "# XGBoost model\n",
        "xgb = XGBClassifier(use_label_encoder=False, eval_metric='logloss', random_state=42)\n",
        "\n",
        "# Parameter grid for learning rate\n",
        "param_grid = {'learning_rate': [0.01, 0.1, 0.2]}\n",
        "\n",
        "# GridSearchCV\n",
        "grid = GridSearchCV(xgb, param_grid, cv=3, scoring='accuracy')\n",
        "grid.fit(X_train, y_train)\n",
        "\n",
        "# Best parameters and accuracy\n",
        "print(\"Best Learning Rate:\", grid.best_params_['learning_rate'])\n",
        "print(\"Best Accuracy:\", grid.best_score_)\n"
      ],
      "metadata": {
        "colab": {
          "base_uri": "https://localhost:8080/"
        },
        "id": "0RaDZL8QXcah",
        "outputId": "9847a019-068c-4732-87db-cc8ba6da16b4"
      },
      "execution_count": 6,
      "outputs": [
        {
          "output_type": "stream",
          "name": "stderr",
          "text": [
            "/usr/local/lib/python3.12/dist-packages/xgboost/training.py:183: UserWarning: [15:36:59] WARNING: /workspace/src/learner.cc:738: \n",
            "Parameters: { \"use_label_encoder\" } are not used.\n",
            "\n",
            "  bst.update(dtrain, iteration=i, fobj=obj)\n",
            "/usr/local/lib/python3.12/dist-packages/xgboost/training.py:183: UserWarning: [15:37:00] WARNING: /workspace/src/learner.cc:738: \n",
            "Parameters: { \"use_label_encoder\" } are not used.\n",
            "\n",
            "  bst.update(dtrain, iteration=i, fobj=obj)\n",
            "/usr/local/lib/python3.12/dist-packages/xgboost/training.py:183: UserWarning: [15:37:01] WARNING: /workspace/src/learner.cc:738: \n",
            "Parameters: { \"use_label_encoder\" } are not used.\n",
            "\n",
            "  bst.update(dtrain, iteration=i, fobj=obj)\n",
            "/usr/local/lib/python3.12/dist-packages/xgboost/training.py:183: UserWarning: [15:37:01] WARNING: /workspace/src/learner.cc:738: \n",
            "Parameters: { \"use_label_encoder\" } are not used.\n",
            "\n",
            "  bst.update(dtrain, iteration=i, fobj=obj)\n",
            "/usr/local/lib/python3.12/dist-packages/xgboost/training.py:183: UserWarning: [15:37:01] WARNING: /workspace/src/learner.cc:738: \n",
            "Parameters: { \"use_label_encoder\" } are not used.\n",
            "\n",
            "  bst.update(dtrain, iteration=i, fobj=obj)\n",
            "/usr/local/lib/python3.12/dist-packages/xgboost/training.py:183: UserWarning: [15:37:01] WARNING: /workspace/src/learner.cc:738: \n",
            "Parameters: { \"use_label_encoder\" } are not used.\n",
            "\n",
            "  bst.update(dtrain, iteration=i, fobj=obj)\n",
            "/usr/local/lib/python3.12/dist-packages/xgboost/training.py:183: UserWarning: [15:37:01] WARNING: /workspace/src/learner.cc:738: \n",
            "Parameters: { \"use_label_encoder\" } are not used.\n",
            "\n",
            "  bst.update(dtrain, iteration=i, fobj=obj)\n",
            "/usr/local/lib/python3.12/dist-packages/xgboost/training.py:183: UserWarning: [15:37:01] WARNING: /workspace/src/learner.cc:738: \n",
            "Parameters: { \"use_label_encoder\" } are not used.\n",
            "\n",
            "  bst.update(dtrain, iteration=i, fobj=obj)\n",
            "/usr/local/lib/python3.12/dist-packages/xgboost/training.py:183: UserWarning: [15:37:01] WARNING: /workspace/src/learner.cc:738: \n",
            "Parameters: { \"use_label_encoder\" } are not used.\n",
            "\n",
            "  bst.update(dtrain, iteration=i, fobj=obj)\n",
            "/usr/local/lib/python3.12/dist-packages/xgboost/training.py:183: UserWarning: [15:37:01] WARNING: /workspace/src/learner.cc:738: \n",
            "Parameters: { \"use_label_encoder\" } are not used.\n",
            "\n",
            "  bst.update(dtrain, iteration=i, fobj=obj)\n"
          ]
        },
        {
          "output_type": "stream",
          "name": "stdout",
          "text": [
            "Best Learning Rate: 0.1\n",
            "Best Accuracy: 0.9572415888205361\n"
          ]
        }
      ]
    },
    {
      "cell_type": "code",
      "source": [
        "#QUES9\n",
        "\n",
        "!pip install catboost\n",
        "\n",
        "from sklearn.datasets import load_breast_cancer\n",
        "from sklearn.model_selection import train_test_split\n",
        "from catboost import CatBoostClassifier\n",
        "from sklearn.metrics import confusion_matrix\n",
        "import seaborn as sns\n",
        "import matplotlib.pyplot as plt\n",
        "\n",
        "# Load dataset\n",
        "data = load_breast_cancer()\n",
        "X, y = data.data, data.target\n",
        "\n",
        "# Split data\n",
        "X_train, X_test, y_train, y_test = train_test_split(X, y, test_size=0.3, random_state=42)\n",
        "\n",
        "# Train CatBoost Classifier\n",
        "model = CatBoostClassifier(verbose=0)\n",
        "model.fit(X_train, y_train)\n",
        "\n",
        "# Predictions\n",
        "y_pred = model.predict(X_test)\n",
        "\n",
        "# Confusion matrix\n",
        "cm = confusion_matrix(y_test, y_pred)\n",
        "\n",
        "# Plot confusion matrix\n",
        "sns.heatmap(cm, annot=True, fmt=\"d\", cmap=\"Blues\")\n",
        "plt.xlabel(\"Predicted\")\n",
        "plt.ylabel(\"Actual\")\n",
        "plt.title(\"Confusion Matrix\")\n",
        "plt.show()\n"
      ],
      "metadata": {
        "colab": {
          "base_uri": "https://localhost:8080/",
          "height": 889
        },
        "id": "DzBJqChDYGvf",
        "outputId": "09a705eb-746c-4d19-e96f-3ee7a3edde94"
      },
      "execution_count": 13,
      "outputs": [
        {
          "output_type": "stream",
          "name": "stdout",
          "text": [
            "Collecting catboost\n",
            "  Downloading catboost-1.2.8-cp312-cp312-manylinux2014_x86_64.whl.metadata (1.2 kB)\n",
            "Requirement already satisfied: graphviz in /usr/local/lib/python3.12/dist-packages (from catboost) (0.21)\n",
            "Requirement already satisfied: matplotlib in /usr/local/lib/python3.12/dist-packages (from catboost) (3.10.0)\n",
            "Requirement already satisfied: numpy<3.0,>=1.16.0 in /usr/local/lib/python3.12/dist-packages (from catboost) (2.0.2)\n",
            "Requirement already satisfied: pandas>=0.24 in /usr/local/lib/python3.12/dist-packages (from catboost) (2.2.2)\n",
            "Requirement already satisfied: scipy in /usr/local/lib/python3.12/dist-packages (from catboost) (1.16.1)\n",
            "Requirement already satisfied: plotly in /usr/local/lib/python3.12/dist-packages (from catboost) (5.24.1)\n",
            "Requirement already satisfied: six in /usr/local/lib/python3.12/dist-packages (from catboost) (1.17.0)\n",
            "Requirement already satisfied: python-dateutil>=2.8.2 in /usr/local/lib/python3.12/dist-packages (from pandas>=0.24->catboost) (2.9.0.post0)\n",
            "Requirement already satisfied: pytz>=2020.1 in /usr/local/lib/python3.12/dist-packages (from pandas>=0.24->catboost) (2025.2)\n",
            "Requirement already satisfied: tzdata>=2022.7 in /usr/local/lib/python3.12/dist-packages (from pandas>=0.24->catboost) (2025.2)\n",
            "Requirement already satisfied: contourpy>=1.0.1 in /usr/local/lib/python3.12/dist-packages (from matplotlib->catboost) (1.3.3)\n",
            "Requirement already satisfied: cycler>=0.10 in /usr/local/lib/python3.12/dist-packages (from matplotlib->catboost) (0.12.1)\n",
            "Requirement already satisfied: fonttools>=4.22.0 in /usr/local/lib/python3.12/dist-packages (from matplotlib->catboost) (4.59.1)\n",
            "Requirement already satisfied: kiwisolver>=1.3.1 in /usr/local/lib/python3.12/dist-packages (from matplotlib->catboost) (1.4.9)\n",
            "Requirement already satisfied: packaging>=20.0 in /usr/local/lib/python3.12/dist-packages (from matplotlib->catboost) (25.0)\n",
            "Requirement already satisfied: pillow>=8 in /usr/local/lib/python3.12/dist-packages (from matplotlib->catboost) (11.3.0)\n",
            "Requirement already satisfied: pyparsing>=2.3.1 in /usr/local/lib/python3.12/dist-packages (from matplotlib->catboost) (3.2.3)\n",
            "Requirement already satisfied: tenacity>=6.2.0 in /usr/local/lib/python3.12/dist-packages (from plotly->catboost) (8.5.0)\n",
            "Downloading catboost-1.2.8-cp312-cp312-manylinux2014_x86_64.whl (99.2 MB)\n",
            "\u001b[2K   \u001b[90m━━━━━━━━━━━━━━━━━━━━━━━━━━━━━━━━━━━━━━━━\u001b[0m \u001b[32m99.2/99.2 MB\u001b[0m \u001b[31m8.4 MB/s\u001b[0m eta \u001b[36m0:00:00\u001b[0m\n",
            "\u001b[?25hInstalling collected packages: catboost\n",
            "Successfully installed catboost-1.2.8\n"
          ]
        },
        {
          "output_type": "display_data",
          "data": {
            "text/plain": [
              "<Figure size 640x480 with 2 Axes>"
            ],
            "image/png": "[encoded data removed]"
          },
          "metadata": {}
        }
      ]
    },
    {
      "cell_type": "code",
      "metadata": {
        "colab": {
          "base_uri": "https://localhost:8080/",
          "height": 296
        },
        "id": "fe3e4cda",
        "outputId": "f37effa3-fc40-409a-98d0-2061dc404177"
      },
      "source": [
        "#QUES10.\n",
        "from sklearn.model_selection import train_test_split, GridSearchCV\n",
        "from catboost import CatBoostClassifier\n",
        "from sklearn.metrics import classification_report, roc_auc_score\n",
        "\n",
        "# Assume dataset is preprocessed into X, y\n",
        "X_train, X_test, y_train, y_test = train_test_split(X, y, test_size=0.3, random_state=42)\n",
        "\n",
        "cat = CatBoostClassifier(iterations=200, depth=6, learning_rate=0.1, verbose=0)\n",
        "cat.fit(X_train, y_train)\n",
        "\n",
        "y_pred = cat.predict(X_test)\n",
        "print(classification_report(y_test, y_pred))\n",
        "print(\"ROC-AUC:\", roc_auc_score(y_test, y_pred))\n",
        "\n",
        "'''\n",
        "Step 1: Data Preprocessing\n",
        "- Handle missing values (mean/median imputation for numeric, mode for categorical).\n",
        "- Encode categorical features using CatBoost or one-hot encoding (if using XGBoost).\n",
        "- Scale numeric values if required.\n",
        "\n",
        "Step 2: Algorithm Choice\n",
        "- CatBoost is best because it naturally handles categorical features and reduces preprocessing.\n",
        "- XGBoost is also strong if categorical features are encoded.\n",
        "\n",
        "Step 3: Hyperparameter Tuning\n",
        "- Use GridSearchCV or RandomizedSearchCV.\n",
        "- Tune learning rate, depth, number of estimators.\n",
        "\n",
        "Step 4: Evaluation Metrics\n",
        "- Since dataset is imbalanced, accuracy is not enough.\n",
        "- Use AUC-ROC, Precision, Recall, and F1-score to evaluate properly.\n",
        "\n",
        "Step 5: Business Benefit\n",
        "- The model helps identify customers likely to default, allowing the company to reduce financial risk, adjust credit policies, and improve profit margins.\n",
        "\n",
        "Python Example:\n",
        "'''"
      ],
      "execution_count": 15,
      "outputs": [
        {
          "output_type": "stream",
          "name": "stdout",
          "text": [
            "              precision    recall  f1-score   support\n",
            "\n",
            "           0       0.98      0.97      0.98        63\n",
            "           1       0.98      0.99      0.99       108\n",
            "\n",
            "    accuracy                           0.98       171\n",
            "   macro avg       0.98      0.98      0.98       171\n",
            "weighted avg       0.98      0.98      0.98       171\n",
            "\n",
            "ROC-AUC: 0.9794973544973544\n"
          ]
        },
        {
          "output_type": "execute_result",
          "data": {
            "text/plain": [
              "'\\nStep 1: Data Preprocessing\\n- Handle missing values (mean/median imputation for numeric, mode for categorical).\\n- Encode categorical features using CatBoost or one-hot encoding (if using XGBoost).\\n- Scale numeric values if required.\\n\\nStep 2: Algorithm Choice\\n- CatBoost is best because it naturally handles categorical features and reduces preprocessing.\\n- XGBoost is also strong if categorical features are encoded.\\n\\nStep 3: Hyperparameter Tuning\\n- Use GridSearchCV or RandomizedSearchCV.\\n- Tune learning rate, depth, number of estimators.\\n\\nStep 4: Evaluation Metrics\\n- Since dataset is imbalanced, accuracy is not enough.\\n- Use AUC-ROC, Precision, Recall, and F1-score to evaluate properly.\\n\\nStep 5: Business Benefit\\n- The model helps identify customers likely to default, allowing the company to reduce financial risk, adjust credit policies, and improve profit margins.\\n\\nPython Example:\\n'"
            ],
            "application/vnd.google.colaboratory.intrinsic+json": {
              "type": "string"
            }
          },
          "metadata": {},
          "execution_count": 15
        }
      ]
    }
  ]
}